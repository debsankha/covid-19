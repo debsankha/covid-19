{
 "cells": [
  {
   "cell_type": "markdown",
   "metadata": {},
   "source": [
    "A little notebook to help visualise the official numbers for personal use. Absolutely no guarantees are made.\n",
    "\n",
    "**This is not a replacement for expert advice. Please listen to your local health authorities.**\n",
    "\n",
    "The data is dynamically loaded from: https://github.com/CSSEGISandData/COVID-19"
   ]
  },
  {
   "cell_type": "code",
   "execution_count": 1,
   "metadata": {},
   "outputs": [],
   "source": [
    "%matplotlib ipympl\n",
    "%config InlineBackend.figure_format ='retina'"
   ]
  },
  {
   "cell_type": "code",
   "execution_count": 2,
   "metadata": {},
   "outputs": [],
   "source": [
    "import matplotlib.pyplot as plt\n",
    "import pandas as pd\n",
    "\n",
    "from jhu_helpers import *"
   ]
  },
  {
   "cell_type": "code",
   "execution_count": 3,
   "metadata": {},
   "outputs": [],
   "source": [
    "jhu = aggregte_jhu_by_state(*get_jhu_data())"
   ]
  },
  {
   "cell_type": "code",
   "execution_count": 4,
   "metadata": {},
   "outputs": [],
   "source": [
    "#jhu.confirmed.columns.tolist() # print a list of all countries in the data set"
   ]
  },
  {
   "cell_type": "code",
   "execution_count": 5,
   "metadata": {},
   "outputs": [
    {
     "data": {
      "text/html": [
       "<div>\n",
       "<style scoped>\n",
       "    .dataframe tbody tr th:only-of-type {\n",
       "        vertical-align: middle;\n",
       "    }\n",
       "\n",
       "    .dataframe tbody tr th {\n",
       "        vertical-align: top;\n",
       "    }\n",
       "\n",
       "    .dataframe thead th {\n",
       "        text-align: right;\n",
       "    }\n",
       "</style>\n",
       "<table border=\"1\" class=\"dataframe\">\n",
       "  <thead>\n",
       "    <tr style=\"text-align: right;\">\n",
       "      <th>Country/Region</th>\n",
       "      <th>China</th>\n",
       "      <th>Italy</th>\n",
       "      <th>Iran</th>\n",
       "      <th>Spain</th>\n",
       "      <th>Germany</th>\n",
       "      <th>France</th>\n",
       "      <th>Korea, South</th>\n",
       "      <th>US</th>\n",
       "      <th>Switzerland</th>\n",
       "      <th>United Kingdom</th>\n",
       "      <th>Netherlands</th>\n",
       "      <th>Austria</th>\n",
       "      <th>Norway</th>\n",
       "      <th>Belgium</th>\n",
       "      <th>Sweden</th>\n",
       "      <th>Denmark</th>\n",
       "      <th>Japan</th>\n",
       "      <th>Malaysia</th>\n",
       "      <th>Cruise Ship</th>\n",
       "    </tr>\n",
       "    <tr>\n",
       "      <th>Date</th>\n",
       "      <th></th>\n",
       "      <th></th>\n",
       "      <th></th>\n",
       "      <th></th>\n",
       "      <th></th>\n",
       "      <th></th>\n",
       "      <th></th>\n",
       "      <th></th>\n",
       "      <th></th>\n",
       "      <th></th>\n",
       "      <th></th>\n",
       "      <th></th>\n",
       "      <th></th>\n",
       "      <th></th>\n",
       "      <th></th>\n",
       "      <th></th>\n",
       "      <th></th>\n",
       "      <th></th>\n",
       "      <th></th>\n",
       "    </tr>\n",
       "  </thead>\n",
       "  <tbody>\n",
       "    <tr>\n",
       "      <th>2020-03-14</th>\n",
       "      <td>80977</td>\n",
       "      <td>21157</td>\n",
       "      <td>12729</td>\n",
       "      <td>6391</td>\n",
       "      <td>4585</td>\n",
       "      <td>4487</td>\n",
       "      <td>8086</td>\n",
       "      <td>2727</td>\n",
       "      <td>1359</td>\n",
       "      <td>1144</td>\n",
       "      <td>962</td>\n",
       "      <td>655</td>\n",
       "      <td>1090</td>\n",
       "      <td>689</td>\n",
       "      <td>961</td>\n",
       "      <td>836</td>\n",
       "      <td>773</td>\n",
       "      <td>238</td>\n",
       "      <td>696</td>\n",
       "    </tr>\n",
       "    <tr>\n",
       "      <th>2020-03-15</th>\n",
       "      <td>81003</td>\n",
       "      <td>24747</td>\n",
       "      <td>13938</td>\n",
       "      <td>7798</td>\n",
       "      <td>5795</td>\n",
       "      <td>4523</td>\n",
       "      <td>8162</td>\n",
       "      <td>3499</td>\n",
       "      <td>2200</td>\n",
       "      <td>1145</td>\n",
       "      <td>1138</td>\n",
       "      <td>860</td>\n",
       "      <td>1221</td>\n",
       "      <td>886</td>\n",
       "      <td>1022</td>\n",
       "      <td>875</td>\n",
       "      <td>839</td>\n",
       "      <td>428</td>\n",
       "      <td>696</td>\n",
       "    </tr>\n",
       "    <tr>\n",
       "      <th>2020-03-16</th>\n",
       "      <td>81033</td>\n",
       "      <td>27980</td>\n",
       "      <td>14991</td>\n",
       "      <td>9942</td>\n",
       "      <td>7272</td>\n",
       "      <td>6668</td>\n",
       "      <td>8236</td>\n",
       "      <td>4632</td>\n",
       "      <td>2200</td>\n",
       "      <td>1551</td>\n",
       "      <td>1416</td>\n",
       "      <td>1018</td>\n",
       "      <td>1333</td>\n",
       "      <td>1058</td>\n",
       "      <td>1103</td>\n",
       "      <td>932</td>\n",
       "      <td>825</td>\n",
       "      <td>566</td>\n",
       "      <td>696</td>\n",
       "    </tr>\n",
       "    <tr>\n",
       "      <th>2020-03-17</th>\n",
       "      <td>81058</td>\n",
       "      <td>31506</td>\n",
       "      <td>16169</td>\n",
       "      <td>11748</td>\n",
       "      <td>9257</td>\n",
       "      <td>7699</td>\n",
       "      <td>8320</td>\n",
       "      <td>6421</td>\n",
       "      <td>2700</td>\n",
       "      <td>1960</td>\n",
       "      <td>1711</td>\n",
       "      <td>1332</td>\n",
       "      <td>1463</td>\n",
       "      <td>1243</td>\n",
       "      <td>1190</td>\n",
       "      <td>1024</td>\n",
       "      <td>878</td>\n",
       "      <td>673</td>\n",
       "      <td>696</td>\n",
       "    </tr>\n",
       "    <tr>\n",
       "      <th>2020-03-18</th>\n",
       "      <td>81102</td>\n",
       "      <td>35713</td>\n",
       "      <td>17361</td>\n",
       "      <td>13910</td>\n",
       "      <td>12327</td>\n",
       "      <td>9105</td>\n",
       "      <td>8413</td>\n",
       "      <td>7783</td>\n",
       "      <td>3028</td>\n",
       "      <td>2642</td>\n",
       "      <td>2058</td>\n",
       "      <td>1646</td>\n",
       "      <td>1550</td>\n",
       "      <td>1486</td>\n",
       "      <td>1279</td>\n",
       "      <td>1115</td>\n",
       "      <td>889</td>\n",
       "      <td>790</td>\n",
       "      <td>712</td>\n",
       "    </tr>\n",
       "  </tbody>\n",
       "</table>\n",
       "</div>"
      ],
      "text/plain": [
       "Country/Region  China  Italy   Iran  Spain  Germany  France  Korea, South  \\\n",
       "Date                                                                        \n",
       "2020-03-14      80977  21157  12729   6391     4585    4487          8086   \n",
       "2020-03-15      81003  24747  13938   7798     5795    4523          8162   \n",
       "2020-03-16      81033  27980  14991   9942     7272    6668          8236   \n",
       "2020-03-17      81058  31506  16169  11748     9257    7699          8320   \n",
       "2020-03-18      81102  35713  17361  13910    12327    9105          8413   \n",
       "\n",
       "Country/Region    US  Switzerland  United Kingdom  Netherlands  Austria  \\\n",
       "Date                                                                      \n",
       "2020-03-14      2727         1359            1144          962      655   \n",
       "2020-03-15      3499         2200            1145         1138      860   \n",
       "2020-03-16      4632         2200            1551         1416     1018   \n",
       "2020-03-17      6421         2700            1960         1711     1332   \n",
       "2020-03-18      7783         3028            2642         2058     1646   \n",
       "\n",
       "Country/Region  Norway  Belgium  Sweden  Denmark  Japan  Malaysia  Cruise Ship  \n",
       "Date                                                                            \n",
       "2020-03-14        1090      689     961      836    773       238          696  \n",
       "2020-03-15        1221      886    1022      875    839       428          696  \n",
       "2020-03-16        1333     1058    1103      932    825       566          696  \n",
       "2020-03-17        1463     1243    1190     1024    878       673          696  \n",
       "2020-03-18        1550     1486    1279     1115    889       790          712  "
      ]
     },
     "execution_count": 5,
     "metadata": {},
     "output_type": "execute_result"
    }
   ],
   "source": [
    "# look at recent numbers from highly affected countries\n",
    "get_aggregate_top_n(jhu.confirmed)"
   ]
  },
  {
   "cell_type": "code",
   "execution_count": 6,
   "metadata": {},
   "outputs": [],
   "source": [
    "# choose a random list of countries to plot\n",
    "plot_countries = [\n",
    "    'China',\n",
    "    'Italy',\n",
    "    'Singapore', \n",
    "    'US',\n",
    "    'France',\n",
    "    'Germany',\n",
    "]"
   ]
  },
  {
   "cell_type": "code",
   "execution_count": 7,
   "metadata": {},
   "outputs": [
    {
     "data": {
      "application/vnd.jupyter.widget-view+json": {
       "model_id": "",
       "version_major": 2,
       "version_minor": 0
      },
      "text/plain": [
       "Canvas(toolbar=Toolbar(toolitems=[('Home', 'Reset original view', 'home', 'home'), ('Back', 'Back to previous …"
      ]
     },
     "metadata": {},
     "output_type": "display_data"
    }
   ],
   "source": [
    "plt.close(1)\n",
    "fig1, ax1 = plt.subplots(nrows=2, ncols=2, figsize=(10,8), sharex=True, num=1)\n",
    "\n",
    "jhu.confirmed[plot_countries].plot(ax=ax1[0,0], logy=True)\n",
    "ax1[0,0].set_ylabel('Confirmed')\n",
    "\n",
    "smooth_rate_d = 3\n",
    "jhu.infection_rate[plot_countries].rolling(smooth_rate_d, center=True, min_periods=1).mean().plot(ax=ax1[1,0], logy=False)\n",
    "ax1[1,0].set_ylabel('Infection Rate per Infected')\n",
    "\n",
    "jhu.recovered[plot_countries].plot(ax=ax1[0,1], logy=True)\n",
    "ax1[0,1].set_ylabel('Recovered')\n",
    "\n",
    "jhu.deaths[plot_countries].plot(ax=ax1[1,1], logy=True)\n",
    "ax1[1,1].set_ylabel('Deaths')\n",
    "\n",
    "fig1.tight_layout()"
   ]
  },
  {
   "cell_type": "code",
   "execution_count": 8,
   "metadata": {},
   "outputs": [],
   "source": [
    "# save the above figure\n",
    "#fig1.savefig('sars-covid-19_timeseries.png')"
   ]
  },
  {
   "cell_type": "code",
   "execution_count": 9,
   "metadata": {},
   "outputs": [],
   "source": [
    "## Scratch"
   ]
  },
  {
   "cell_type": "code",
   "execution_count": 10,
   "metadata": {},
   "outputs": [
    {
     "data": {
      "text/plain": [
       "{'confirmed', 'deaths', 'infected', 'infection_rate', 'recovered'}"
      ]
     },
     "execution_count": 10,
     "metadata": {},
     "output_type": "execute_result"
    }
   ],
   "source": [
    "set(jhu.columns.get_level_values(0))"
   ]
  },
  {
   "cell_type": "code",
   "execution_count": 26,
   "metadata": {},
   "outputs": [],
   "source": [
    "# choose a random list of countries to plot\n",
    "plot_countries = [\n",
    "    'China',\n",
    "    'Italy',\n",
    "    #'Singapore', \n",
    "    'US',\n",
    "    'France',\n",
    "    'Germany',\n",
    "]"
   ]
  },
  {
   "cell_type": "code",
   "execution_count": 21,
   "metadata": {},
   "outputs": [
    {
     "data": {
      "application/vnd.jupyter.widget-view+json": {
       "model_id": "",
       "version_major": 2,
       "version_minor": 0
      },
      "text/plain": [
       "Canvas(toolbar=Toolbar(toolitems=[('Home', 'Reset original view', 'home', 'home'), ('Back', 'Back to previous …"
      ]
     },
     "metadata": {},
     "output_type": "display_data"
    }
   ],
   "source": [
    "fig, ax = plt.subplots(figsize=(8,6))\n",
    "confirmed_thres = 50\n",
    "\n",
    "for country in plot_countries:\n",
    "    confirmed = jhu.confirmed[country]\n",
    "    index_after_thres_cross = confirmed[confirmed>confirmed_thres].index[0]\n",
    "    confirmed_after_thres_exceed = confirmed.copy()\n",
    "    confirmed_after_thres_exceed.index = confirmed.index - index_after_thres_cross\n",
    "    confirmed_after_thres_exceed.plot(ax=ax, label=country)\n",
    "ax.legend()\n",
    "ax.xaxis.set_tick_params(rotation=45)\n",
    "ax.set_yscale('log')\n",
    "fig.tight_layout()"
   ]
  },
  {
   "cell_type": "code",
   "execution_count": 30,
   "metadata": {},
   "outputs": [
    {
     "data": {
      "application/vnd.jupyter.widget-view+json": {
       "model_id": "",
       "version_major": 2,
       "version_minor": 0
      },
      "text/plain": [
       "Canvas(toolbar=Toolbar(toolitems=[('Home', 'Reset original view', 'home', 'home'), ('Back', 'Back to previous …"
      ]
     },
     "metadata": {},
     "output_type": "display_data"
    }
   ],
   "source": [
    "fig, ax = plt.subplots(figsize=(8,6))\n",
    "thres = 1\n",
    "\n",
    "for country in plot_countries:\n",
    "    confirmed = jhu.deaths[country]\n",
    "    index_after_thres_cross = confirmed[confirmed>thres].index[0]\n",
    "    confirmed_after_thres_exceed = confirmed.copy()\n",
    "    confirmed_after_thres_exceed.index = confirmed.index - index_after_thres_cross\n",
    "    confirmed_after_thres_exceed.plot(ax=ax, label=country)\n",
    "ax.legend()\n",
    "ax.xaxis.set_tick_params(rotation=45)\n",
    "ax.set_yscale('log')\n",
    "\n",
    "ax.set_xlabel('days since first death')\n",
    "ax.set_ylabel('deaths')\n",
    "fig.tight_layout()"
   ]
  },
  {
   "cell_type": "code",
   "execution_count": null,
   "metadata": {},
   "outputs": [],
   "source": []
  }
 ],
 "metadata": {
  "kernelspec": {
   "display_name": "Python 3",
   "language": "python",
   "name": "python3"
  },
  "language_info": {
   "codemirror_mode": {
    "name": "ipython",
    "version": 3
   },
   "file_extension": ".py",
   "mimetype": "text/x-python",
   "name": "python",
   "nbconvert_exporter": "python",
   "pygments_lexer": "ipython3",
   "version": "3.7.4"
  }
 },
 "nbformat": 4,
 "nbformat_minor": 4
}
